{
 "cells": [
  {
   "cell_type": "code",
   "execution_count": 1,
   "metadata": {},
   "outputs": [
    {
     "data": {
      "text/plain": [
       "'\\nCreated on Tue Apr 10 16:08:08 2018\\n\\n@author: Fonnn\\n\\n=================================\\n写出一个高效的算法来搜索 m × n矩阵中的值\\n\\n这个矩阵具有以下特性：\\n每行中的整数从左到右是排序的。\\n每行的第一个数大于上一行的最后一个整数\\n\\nmatrix = [\\n  [1, 3, 5, 7],\\n  [10, 11, 16, 20],\\n  [23, 30, 34, 50]\\n]\\n\\n给出 target = 3，返回 true\\n'"
      ]
     },
     "execution_count": 1,
     "metadata": {},
     "output_type": "execute_result"
    }
   ],
   "source": [
    "#!/usr/bin/env python3\n",
    "# -*- coding: utf-8 -*-\n",
    "\"\"\"\n",
    "Created on Tue Apr 10 16:08:08 2018\n",
    "\n",
    "@author: Fonnn\n",
    "\n",
    "=================================\n",
    "写出一个高效的算法来搜索 m × n矩阵中的值\n",
    "\n",
    "这个矩阵具有以下特性：\n",
    "每行中的整数从左到右是排序的。\n",
    "每行的第一个数大于上一行的最后一个整数\n",
    "\n",
    "matrix = [\n",
    "  [1, 3, 5, 7],\n",
    "  [10, 11, 16, 20],\n",
    "  [23, 30, 34, 50]\n",
    "]\n",
    "\n",
    "给出 target = 3，返回 true\n",
    "\"\"\""
   ]
  },
  {
   "cell_type": "code",
   "execution_count": 2,
   "metadata": {
    "collapsed": true
   },
   "outputs": [],
   "source": [
    "def searchMatrix(matrix, target):\n",
    "    \n",
    "    if matrix == None:\n",
    "        return False\n",
    "    #获取行列的大小，m、n    \n",
    "    m = len(matrix)\n",
    "    \n",
    "    if m == 0:\n",
    "        return False\n",
    "        \n",
    "    n = len(matrix[0])\n",
    "    \n",
    "    #先行后列搜索\n",
    "    for i in range(m):\n",
    "        for j in range(n):\n",
    "            if matrix[i][j] == target:\n",
    "                return True\n",
    "                \n",
    "    return False"
   ]
  },
  {
   "cell_type": "code",
   "execution_count": 5,
   "metadata": {},
   "outputs": [],
   "source": [
    "matrix = [\n",
    "  [1, 3, 5, 7],\n",
    "  [10, 11, 16, 20],\n",
    "  [23, 30, 34, 50]\n",
    "]\n",
    "target = 3"
   ]
  },
  {
   "cell_type": "code",
   "execution_count": 6,
   "metadata": {},
   "outputs": [
    {
     "data": {
      "text/plain": [
       "True"
      ]
     },
     "execution_count": 6,
     "metadata": {},
     "output_type": "execute_result"
    }
   ],
   "source": [
    "searchMatrix(matrix, 3)"
   ]
  },
  {
   "cell_type": "code",
   "execution_count": null,
   "metadata": {
    "collapsed": true
   },
   "outputs": [],
   "source": []
  }
 ],
 "metadata": {
  "kernelspec": {
   "display_name": "Python 3",
   "language": "python",
   "name": "python3"
  },
  "language_info": {
   "codemirror_mode": {
    "name": "ipython",
    "version": 3
   },
   "file_extension": ".py",
   "mimetype": "text/x-python",
   "name": "python",
   "nbconvert_exporter": "python",
   "pygments_lexer": "ipython3",
   "version": "3.6.1"
  }
 },
 "nbformat": 4,
 "nbformat_minor": 2
}
