{
 "cells": [
  {
   "cell_type": "code",
   "execution_count": 7,
   "metadata": {},
   "outputs": [
    {
     "data": {
      "text/plain": [
       "'\\n写出一个高效的算法来搜索m×n矩阵中的值，返回这个值出现的次数。\\n\\n考虑下列矩阵：\\n\\n[\\n    [1, 3, 5, 7],\\n\\n    [2, 4, 7, 8],\\n\\n    [3, 5, 9, 10]\\n]\\n\\n给出target = 3，返回 2\\n'"
      ]
     },
     "execution_count": 7,
     "metadata": {},
     "output_type": "execute_result"
    }
   ],
   "source": [
    "\"\"\"\n",
    "写出一个高效的算法来搜索m×n矩阵中的值，返回这个值出现的次数。\n",
    "\n",
    "考虑下列矩阵：\n",
    "\n",
    "[\n",
    "    [1, 3, 5, 7],\n",
    "\n",
    "    [2, 4, 7, 8],\n",
    "\n",
    "    [3, 5, 9, 10]\n",
    "]\n",
    "\n",
    "给出target = 3，返回 2\n",
    "\"\"\""
   ]
  },
  {
   "cell_type": "code",
   "execution_count": 8,
   "metadata": {
    "collapsed": true
   },
   "outputs": [],
   "source": [
    "def searchMatrix(matrix, target):\n",
    "    # write your code here\n",
    "\n",
    "    if matrix == None:\n",
    "        return False\n",
    "\n",
    "    #获取m和n的大小    \n",
    "    m = len(matrix)\n",
    "    #定义计数器\n",
    "    nums = 0\n",
    "\n",
    "    if m == 0:\n",
    "        return nums\n",
    "\n",
    "    n = len(matrix[0])\n",
    "\n",
    "    #先行后列搜索\n",
    "    for i in range(m):\n",
    "        for j in range(n):\n",
    "            if matrix[i][j]  == target:\n",
    "                nums += 1\n",
    "\n",
    "    return nums"
   ]
  },
  {
   "cell_type": "code",
   "execution_count": 9,
   "metadata": {
    "collapsed": true
   },
   "outputs": [],
   "source": [
    "matrix = [\n",
    "    [1, 3, 5, 7],\n",
    "\n",
    "    [2, 4, 7, 8],\n",
    "\n",
    "    [3, 5, 9, 10]\n",
    "]"
   ]
  },
  {
   "cell_type": "code",
   "execution_count": 10,
   "metadata": {
    "collapsed": true
   },
   "outputs": [],
   "source": [
    "target = 3"
   ]
  },
  {
   "cell_type": "code",
   "execution_count": 11,
   "metadata": {},
   "outputs": [
    {
     "data": {
      "text/plain": [
       "2"
      ]
     },
     "execution_count": 11,
     "metadata": {},
     "output_type": "execute_result"
    }
   ],
   "source": [
    "searchMatrix(matrix,target)"
   ]
  },
  {
   "cell_type": "code",
   "execution_count": null,
   "metadata": {
    "collapsed": true
   },
   "outputs": [],
   "source": []
  }
 ],
 "metadata": {
  "kernelspec": {
   "display_name": "Python 3",
   "language": "python",
   "name": "python3"
  },
  "language_info": {
   "codemirror_mode": {
    "name": "ipython",
    "version": 3
   },
   "file_extension": ".py",
   "mimetype": "text/x-python",
   "name": "python",
   "nbconvert_exporter": "python",
   "pygments_lexer": "ipython3",
   "version": "3.6.1"
  }
 },
 "nbformat": 4,
 "nbformat_minor": 2
}
