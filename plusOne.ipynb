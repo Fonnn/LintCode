{
 "cells": [
  {
   "cell_type": "code",
   "execution_count": 1,
   "metadata": {},
   "outputs": [
    {
     "data": {
      "text/plain": [
       "'\\n@author: Fonnn\\n\\n==============\\n407 加一\\n给定一个非负数，表示一个数字数组，在该数的基础上+1，返回一个新的数组。\\n该数字按照数位高低进行排列，最高位的数在列表的最前面。\\n\\n样例\\n给定 [1,2,3] 表示 123, 返回 [1,2,4].\\n给定 [9,9,9] 表示 999, 返回 [1,0,0,0].\\n\\n'"
      ]
     },
     "execution_count": 1,
     "metadata": {},
     "output_type": "execute_result"
    }
   ],
   "source": [
    "#!/usr/bin/env python3\n",
    "# -*- coding: utf-8 -*-\n",
    "\"\"\"\n",
    "@author: Fonnn\n",
    "\n",
    "==============\n",
    "407 加一\n",
    "给定一个非负数，表示一个数字数组，在该数的基础上+1，返回一个新的数组。\n",
    "该数字按照数位高低进行排列，最高位的数在列表的最前面。\n",
    "\n",
    "样例\n",
    "给定 [1,2,3] 表示 123, 返回 [1,2,4].\n",
    "给定 [9,9,9] 表示 999, 返回 [1,0,0,0].\n",
    "\n",
    "\"\"\""
   ]
  },
  {
   "cell_type": "code",
   "execution_count": 2,
   "metadata": {
    "collapsed": true
   },
   "outputs": [],
   "source": [
    "def plusOne(digits):\n",
    "    \n",
    "    n = len(digits)\n",
    "    digits[-1] += 1\n",
    "    \n",
    "    for i in range(-1,-n,-1):\n",
    "        if digits[i] == 10:\n",
    "            digits[i] = 0\n",
    "            digits[i-1] += 1\n",
    "        \n",
    "    if digits[0] == 10:\n",
    "        digits[0] = 0\n",
    "        digits.insert(0,1)\n",
    "        \n",
    "    return digits"
   ]
  },
  {
   "cell_type": "code",
   "execution_count": 3,
   "metadata": {},
   "outputs": [
    {
     "data": {
      "text/plain": [
       "[1, 2, 4]"
      ]
     },
     "execution_count": 3,
     "metadata": {},
     "output_type": "execute_result"
    }
   ],
   "source": [
    "plusOne([1,2,3])"
   ]
  },
  {
   "cell_type": "code",
   "execution_count": 4,
   "metadata": {},
   "outputs": [
    {
     "data": {
      "text/plain": [
       "[1, 0, 0, 0]"
      ]
     },
     "execution_count": 4,
     "metadata": {},
     "output_type": "execute_result"
    }
   ],
   "source": [
    "plusOne([9,9,9])"
   ]
  },
  {
   "cell_type": "code",
   "execution_count": null,
   "metadata": {
    "collapsed": true
   },
   "outputs": [],
   "source": []
  }
 ],
 "metadata": {
  "kernelspec": {
   "display_name": "Python 3",
   "language": "python",
   "name": "python3"
  },
  "language_info": {
   "codemirror_mode": {
    "name": "ipython",
    "version": 3
   },
   "file_extension": ".py",
   "mimetype": "text/x-python",
   "name": "python",
   "nbconvert_exporter": "python",
   "pygments_lexer": "ipython3",
   "version": "3.6.1"
  }
 },
 "nbformat": 4,
 "nbformat_minor": 2
}
