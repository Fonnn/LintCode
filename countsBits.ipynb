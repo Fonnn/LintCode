{
 "cells": [
  {
   "cell_type": "code",
   "execution_count": 1,
   "metadata": {},
   "outputs": [
    {
     "data": {
      "text/plain": [
       "'\\n@author: Fonnn\\n\\n==============\\n美团笔试\\n统计位数\\n输入13，输出123455678910111213的位数\\n输入4，输出1234的位数\\n\\n'"
      ]
     },
     "execution_count": 1,
     "metadata": {},
     "output_type": "execute_result"
    }
   ],
   "source": [
    "#!/usr/bin/env python3\n",
    "# -*- coding: utf-8 -*-\n",
    "\"\"\"\n",
    "@author: Fonnn\n",
    "\n",
    "==============\n",
    "美团笔试\n",
    "统计位数\n",
    "输入13，输出123455678910111213的位数\n",
    "输入4，输出1234的位数\n",
    "\n",
    "\"\"\""
   ]
  },
  {
   "cell_type": "code",
   "execution_count": 2,
   "metadata": {
    "collapsed": true
   },
   "outputs": [],
   "source": [
    "def countsBits(listall):\n",
    "    if listall[0] >= 100:\n",
    "        return False\n",
    "    \n",
    "    for k in listall[1:]:\n",
    "        if k == 0:\n",
    "            return False\n",
    "        if k >= 10e9:\n",
    "            return False\n",
    "        \n",
    "        temp_str = ''\n",
    "        #temp_list = []\n",
    "        temp_num = 0\n",
    "    \n",
    "        for i in range(1,k+1):\n",
    "            temp_str=temp_str+str(i)\n",
    "        #print(len(temp_str))\n",
    "        temp_num = len(temp_str)\n",
    "        print(temp_num)\n",
    "    #return temp_list"
   ]
  },
  {
   "cell_type": "code",
   "execution_count": 3,
   "metadata": {},
   "outputs": [
    {
     "name": "stdout",
     "output_type": "stream",
     "text": [
      "17\n",
      "4\n"
     ]
    }
   ],
   "source": [
    "countsBits([2,13,4])"
   ]
  },
  {
   "cell_type": "code",
   "execution_count": null,
   "metadata": {
    "collapsed": true
   },
   "outputs": [],
   "source": []
  }
 ],
 "metadata": {
  "kernelspec": {
   "display_name": "Python 3",
   "language": "python",
   "name": "python3"
  },
  "language_info": {
   "codemirror_mode": {
    "name": "ipython",
    "version": 3
   },
   "file_extension": ".py",
   "mimetype": "text/x-python",
   "name": "python",
   "nbconvert_exporter": "python",
   "pygments_lexer": "ipython3",
   "version": "3.6.1"
  }
 },
 "nbformat": 4,
 "nbformat_minor": 2
}
