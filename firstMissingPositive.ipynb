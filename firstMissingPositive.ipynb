{
 "cells": [
  {
   "cell_type": "code",
   "execution_count": 1,
   "metadata": {},
   "outputs": [
    {
     "data": {
      "text/plain": [
       "'\\n@author: Fonnn\\n\\n==============\\n189 丢失的第一个正整数\\n给出一个无序的整数数组，找出其中没有出现的最小正整数。\\n\\n样例\\n如果给出 [1,2,0], return 3\\n如果给出 [3,4,-1,1], return 2\\n\\n'"
      ]
     },
     "execution_count": 1,
     "metadata": {},
     "output_type": "execute_result"
    }
   ],
   "source": [
    "#!/usr/bin/env python3\n",
    "# -*- coding: utf-8 -*-\n",
    "\"\"\"\n",
    "@author: Fonnn\n",
    "\n",
    "==============\n",
    "189 丢失的第一个正整数\n",
    "给出一个无序的整数数组，找出其中没有出现的最小正整数。\n",
    "\n",
    "样例\n",
    "如果给出 [1,2,0], return 3\n",
    "如果给出 [3,4,-1,1], return 2\n",
    "\n",
    "\"\"\""
   ]
  },
  {
   "cell_type": "code",
   "execution_count": 2,
   "metadata": {
    "collapsed": true
   },
   "outputs": [],
   "source": [
    "#1、笨方法，最多n项，1到n暴力比较\n",
    "#2、桶排序\n",
    "def firstMissingPositive(nums):  \n",
    "\n",
    "\n",
    "    if nums==[]:  \n",
    "        return 1  \n",
    "      \n",
    "    n = len(nums)  \n",
    "    hashed = [0]*n  \n",
    "    for i in range(n):  \n",
    "        if nums[i]>0 and nums[i]<=n:  \n",
    "            hashed[nums[i]-1]+=1  \n",
    "      \n",
    "    for i in range(n):  \n",
    "        if hashed[i]==0:  \n",
    "            return i+1  \n",
    "    return n+1  "
   ]
  },
  {
   "cell_type": "code",
   "execution_count": 3,
   "metadata": {},
   "outputs": [
    {
     "data": {
      "text/plain": [
       "3"
      ]
     },
     "execution_count": 3,
     "metadata": {},
     "output_type": "execute_result"
    }
   ],
   "source": [
    "firstMissingPositive([1,2,0])"
   ]
  },
  {
   "cell_type": "code",
   "execution_count": 4,
   "metadata": {},
   "outputs": [
    {
     "data": {
      "text/plain": [
       "2"
      ]
     },
     "execution_count": 4,
     "metadata": {},
     "output_type": "execute_result"
    }
   ],
   "source": [
    "firstMissingPositive([3,4,-1,1])"
   ]
  },
  {
   "cell_type": "code",
   "execution_count": null,
   "metadata": {
    "collapsed": true
   },
   "outputs": [],
   "source": []
  }
 ],
 "metadata": {
  "kernelspec": {
   "display_name": "Python 3",
   "language": "python",
   "name": "python3"
  },
  "language_info": {
   "codemirror_mode": {
    "name": "ipython",
    "version": 3
   },
   "file_extension": ".py",
   "mimetype": "text/x-python",
   "name": "python",
   "nbconvert_exporter": "python",
   "pygments_lexer": "ipython3",
   "version": "3.6.1"
  }
 },
 "nbformat": 4,
 "nbformat_minor": 2
}
