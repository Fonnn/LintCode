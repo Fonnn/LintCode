{
 "cells": [
  {
   "cell_type": "code",
   "execution_count": 1,
   "metadata": {},
   "outputs": [
    {
     "data": {
      "text/plain": [
       "'\\n@author: Fonnn\\n\\n==============\\n162. 矩阵归零\\n给定一个m×n矩阵，如果一个元素是0，则将其所在行和列全部元素变成0。\\n\\n样例\\n给出一个矩阵\\n[\\n  [1, 2],\\n  [0, 3]\\n]\\n\\n返回\\n[\\n  [0, 2],\\n  [0, 0]\\n]\\n'"
      ]
     },
     "execution_count": 1,
     "metadata": {},
     "output_type": "execute_result"
    }
   ],
   "source": [
    "#!/usr/bin/env python3\n",
    "# -*- coding: utf-8 -*-\n",
    "\"\"\"\n",
    "@author: Fonnn\n",
    "\n",
    "==============\n",
    "162. 矩阵归零\n",
    "给定一个m×n矩阵，如果一个元素是0，则将其所在行和列全部元素变成0。\n",
    "!需要在原矩阵上完成操作!\n",
    "\n",
    "样例\n",
    "给出一个矩阵\n",
    "[\n",
    "  [1, 2],\n",
    "  [0, 3]\n",
    "]\n",
    "\n",
    "返回\n",
    "[\n",
    "  [0, 2],\n",
    "  [0, 0]\n",
    "]\n",
    "\"\"\""
   ]
  },
  {
   "cell_type": "code",
   "execution_count": 3,
   "metadata": {
    "collapsed": true
   },
   "outputs": [],
   "source": [
    "def setZeroes(matrix):\n",
    "    # write your code here\n",
    "\n",
    "    if len(matrix) == 0:\n",
    "        return\n",
    "    #获取行列\n",
    "    row = len(matrix)\n",
    "    col = len(matrix[0])\n",
    "    #标记位置\n",
    "    row_mark = [False for i in range(row)]\n",
    "    col_mark = [False for j in range(col)]\n",
    "    #搜索矩阵\n",
    "    for i in range(row):\n",
    "        for j in range(col):\n",
    "            if matrix[i][j] == 0:\n",
    "                row_mark[i] = True\n",
    "                col_mark[j] = True\n",
    "    #置零\n",
    "    for i in range(row):\n",
    "        for j in range(col):\n",
    "            if row_mark[i] or col_mark[j]:\n",
    "                matrix[i][j] = 0"
   ]
  },
  {
   "cell_type": "code",
   "execution_count": 4,
   "metadata": {
    "collapsed": true
   },
   "outputs": [],
   "source": [
    "matrix=[\n",
    "  [1, 2],\n",
    "  [0, 3]\n",
    "]"
   ]
  },
  {
   "cell_type": "code",
   "execution_count": 5,
   "metadata": {
    "collapsed": true
   },
   "outputs": [],
   "source": [
    "setZeroes(matrix)"
   ]
  },
  {
   "cell_type": "code",
   "execution_count": 6,
   "metadata": {},
   "outputs": [
    {
     "data": {
      "text/plain": [
       "[[0, 2], [0, 0]]"
      ]
     },
     "execution_count": 6,
     "metadata": {},
     "output_type": "execute_result"
    }
   ],
   "source": [
    "matrix"
   ]
  },
  {
   "cell_type": "code",
   "execution_count": null,
   "metadata": {
    "collapsed": true
   },
   "outputs": [],
   "source": []
  }
 ],
 "metadata": {
  "kernelspec": {
   "display_name": "Python 3",
   "language": "python",
   "name": "python3"
  },
  "language_info": {
   "codemirror_mode": {
    "name": "ipython",
    "version": 3
   },
   "file_extension": ".py",
   "mimetype": "text/x-python",
   "name": "python",
   "nbconvert_exporter": "python",
   "pygments_lexer": "ipython3",
   "version": "3.6.1"
  }
 },
 "nbformat": 4,
 "nbformat_minor": 2
}
